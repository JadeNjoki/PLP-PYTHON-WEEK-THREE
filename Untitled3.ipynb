{
  "nbformat": 4,
  "nbformat_minor": 0,
  "metadata": {
    "colab": {
      "provenance": [],
      "authorship_tag": "ABX9TyO643R0O/1R4GCTfIoc5iNQ",
      "include_colab_link": true
    },
    "kernelspec": {
      "name": "python3",
      "display_name": "Python 3"
    },
    "language_info": {
      "name": "python"
    }
  },
  "cells": [
    {
      "cell_type": "markdown",
      "metadata": {
        "id": "view-in-github",
        "colab_type": "text"
      },
      "source": [
        "<a href=\"https://colab.research.google.com/github/JadeNjoki/PLP-PYTHON-WEEK-THREE/blob/main/Untitled3.ipynb\" target=\"_parent\"><img src=\"https://colab.research.google.com/assets/colab-badge.svg\" alt=\"Open In Colab\"/></a>"
      ]
    },
    {
      "cell_type": "code",
      "execution_count": 2,
      "metadata": {
        "colab": {
          "base_uri": "https://localhost:8080/"
        },
        "id": "t-QsZR_gKy3W",
        "outputId": "f4e918da-0bab-4fac-99d8-b06b8ee2436b"
      },
      "outputs": [
        {
          "output_type": "stream",
          "name": "stdout",
          "text": [
            "Enter the original price of the item: 200\n",
            "Enter the discount percentage: 10\n",
            "Final price after discount: $200.00\n"
          ]
        }
      ],
      "source": [
        "def calculate_discount(price, discount_percent):\n",
        "    \"\"\"Calculates the final price after applying a discount if the discount is 20% or higher.\"\"\"\n",
        "    if discount_percent >= 20:\n",
        "        discount_amount = (discount_percent / 100) * price\n",
        "        return price - discount_amount\n",
        "    return price\n",
        "\n",
        "# Prompt the user for input\n",
        "try:\n",
        "    price = float(input(\"Enter the original price of the item: \"))\n",
        "    discount_percent = float(input(\"Enter the discount percentage: \"))\n",
        "\n",
        "    # Calculate and display the final price\n",
        "    final_price = calculate_discount(price, discount_percent)\n",
        "    print(f\"Final price after discount: ${final_price:.2f}\")\n",
        "except ValueError:\n",
        "    print(\"Invalid input. Please enter numerical values.\")\n"
      ]
    }
  ]
}